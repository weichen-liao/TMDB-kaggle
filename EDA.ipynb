{
 "cells": [
  {
   "cell_type": "code",
   "execution_count": 10,
   "metadata": {},
   "outputs": [],
   "source": [
    "import pandas as pd\n",
    "import matplotlib.pyplot as plt"
   ]
  },
  {
   "cell_type": "code",
   "execution_count": 13,
   "metadata": {},
   "outputs": [
    {
     "name": "stdout",
     "output_type": "stream",
     "text": [
      "(3000, 23)\n",
      "['id', 'belongs_to_collection', 'budget', 'genres', 'homepage', 'imdb_id', 'original_language', 'original_title', 'overview', 'popularity', 'poster_path', 'production_companies', 'production_countries', 'release_date', 'runtime', 'spoken_languages', 'status', 'tagline', 'title', 'Keywords', 'cast', 'crew', 'revenue']\n",
      "(4398, 22)\n",
      "['id', 'belongs_to_collection', 'budget', 'genres', 'homepage', 'imdb_id', 'original_language', 'original_title', 'overview', 'popularity', 'poster_path', 'production_companies', 'production_countries', 'release_date', 'runtime', 'spoken_languages', 'status', 'tagline', 'title', 'Keywords', 'cast', 'crew']\n",
      "(7398, 24)\n",
      "['id', 'belongs_to_collection', 'budget', 'genres', 'homepage', 'imdb_id', 'original_language', 'original_title', 'overview', 'popularity', 'poster_path', 'production_companies', 'production_countries', 'release_date', 'runtime', 'spoken_languages', 'status', 'tagline', 'title', 'Keywords', 'cast', 'crew', 'revenue', 'data']\n"
     ]
    }
   ],
   "source": [
    "df_train = pd.read_csv('dataset/train.csv')\n",
    "df_test = pd.read_csv('dataset/test.csv')\n",
    "print(df_train.shape)\n",
    "print(list(df_train))\n",
    "print(df_test.shape)\n",
    "print(list(df_test))\n",
    "# concat into one dataset\n",
    "df_train['data'] = 'train'\n",
    "df_test['data'] = 'test'\n",
    "df = pd.concat((df_train, df_test), axis=0)\n",
    "print(df.shape)\n",
    "print(list(df))"
   ]
  },
  {
   "cell_type": "markdown",
   "metadata": {},
   "source": [
    "# Go through and check each column"
   ]
  },
  {
   "cell_type": "markdown",
   "metadata": {},
   "source": [
    "### id: unique increment id, no nan value"
   ]
  },
  {
   "cell_type": "code",
   "execution_count": 16,
   "metadata": {},
   "outputs": [
    {
     "name": "stdout",
     "output_type": "stream",
     "text": [
      "count    7398.000000\n",
      "mean     3699.500000\n",
      "std      2135.762978\n",
      "min         1.000000\n",
      "25%      1850.250000\n",
      "50%      3699.500000\n",
      "75%      5548.750000\n",
      "max      7398.000000\n",
      "Name: id, dtype: float64\n",
      "7398\n"
     ]
    }
   ],
   "source": [
    "print(df['id'].describe())\n",
    "print(len(df['id'].unique()))"
   ]
  },
  {
   "cell_type": "code",
   "execution_count": 19,
   "metadata": {},
   "outputs": [
    {
     "name": "stdout",
     "output_type": "stream",
     "text": [
      "False    7398\n",
      "Name: id, dtype: int64\n"
     ]
    }
   ],
   "source": [
    "print(df['id'].isnull().value_counts())"
   ]
  },
  {
   "cell_type": "markdown",
   "metadata": {},
   "source": [
    "### belongs_to_collection: whether a movie belongs to a collection"
   ]
  },
  {
   "cell_type": "code",
   "execution_count": 26,
   "metadata": {},
   "outputs": [
    {
     "name": "stdout",
     "output_type": "stream",
     "text": [
      "True     2396\n",
      "False     604\n",
      "Name: belongs_to_collection, dtype: int64\n",
      "True     3521\n",
      "False     877\n",
      "Name: belongs_to_collection, dtype: int64\n"
     ]
    }
   ],
   "source": [
    "print(df[df['data']=='train']['belongs_to_collection'].isnull().value_counts())\n",
    "print(df[df['data']=='test']['belongs_to_collection'].isnull().value_counts())"
   ]
  },
  {
   "cell_type": "code",
   "execution_count": 37,
   "metadata": {},
   "outputs": [
    {
     "name": "stdout",
     "output_type": "stream",
     "text": [
      "[{'id': 313576, 'name': 'Hot Tub Time Machine Collection', 'poster_path': '/iEhb00TGPucF0b4joM1ieyY026U.jpg', 'backdrop_path': '/noeTVcgpBiD48fDjFVic1Vz7ope.jpg'}]\n"
     ]
    }
   ],
   "source": [
    "# example\n",
    "print(df['belongs_to_collection'].values[0])"
   ]
  },
  {
   "cell_type": "markdown",
   "metadata": {},
   "source": [
    "### budget: about 25% is missing, the distribution between train and test is similar"
   ]
  },
  {
   "cell_type": "code",
   "execution_count": 42,
   "metadata": {},
   "outputs": [
    {
     "name": "stdout",
     "output_type": "stream",
     "text": [
      "count    7.398000e+03\n",
      "mean     2.260146e+07\n",
      "std      3.694867e+07\n",
      "min      0.000000e+00\n",
      "25%      0.000000e+00\n",
      "50%      7.500000e+06\n",
      "75%      2.800000e+07\n",
      "max      3.800000e+08\n",
      "Name: budget, dtype: float64\n"
     ]
    }
   ],
   "source": [
    "print(df['budget'].describe())"
   ]
  },
  {
   "cell_type": "code",
   "execution_count": 41,
   "metadata": {},
   "outputs": [
    {
     "name": "stdout",
     "output_type": "stream",
     "text": [
      "False    3000\n",
      "Name: budget, dtype: int64\n",
      "False    4398\n",
      "Name: budget, dtype: int64\n",
      "(812, 24)\n",
      "(1211, 24)\n"
     ]
    }
   ],
   "source": [
    "# a lot of zero budgets, should be identified as missing\n",
    "print(df[df['data']=='train']['budget'].isnull().value_counts())\n",
    "print(df[df['data']=='test']['budget'].isnull().value_counts())\n",
    "print(df[(df['data']=='train')&(df['budget']==0)].shape)\n",
    "print(df[(df['data']=='test')&(df['budget']==0)].shape)"
   ]
  },
  {
   "cell_type": "code",
   "execution_count": 49,
   "metadata": {},
   "outputs": [
    {
     "name": "stdout",
     "output_type": "stream",
     "text": [
      "count    5.375000e+03\n",
      "mean     3.110802e+07\n",
      "std      4.018026e+07\n",
      "min      1.000000e+00\n",
      "25%      5.053316e+06\n",
      "50%      1.700000e+07\n",
      "75%      4.000000e+07\n",
      "max      3.800000e+08\n",
      "Name: budget, dtype: float64\n"
     ]
    },
    {
     "data": {
      "image/png": "[encoded data removed]",
      "text/plain": [
       "<Figure size 432x288 with 1 Axes>"
      ]
     },
     "metadata": {
      "needs_background": "light"
     },
     "output_type": "display_data"
    },
    {
     "name": "stdout",
     "output_type": "stream",
     "text": [
      "count    2.188000e+03\n",
      "mean     3.089305e+07\n",
      "std      4.026785e+07\n",
      "min      1.000000e+00\n",
      "25%      5.150000e+06\n",
      "50%      1.600000e+07\n",
      "75%      4.000000e+07\n",
      "max      3.800000e+08\n",
      "Name: budget, dtype: float64\n"
     ]
    },
    {
     "data": {
      "image/png": "[encoded data removed]",
      "text/plain": [
       "<Figure size 432x288 with 1 Axes>"
      ]
     },
     "metadata": {
      "needs_background": "light"
     },
     "output_type": "display_data"
    },
    {
     "name": "stdout",
     "output_type": "stream",
     "text": [
      "count    2.188000e+03\n",
      "mean     3.089305e+07\n",
      "std      4.026785e+07\n",
      "min      1.000000e+00\n",
      "25%      5.150000e+06\n",
      "50%      1.600000e+07\n",
      "75%      4.000000e+07\n",
      "max      3.800000e+08\n",
      "Name: budget, dtype: float64\n"
     ]
    },
    {
     "data": {
      "image/png": "[encoded data removed]",
      "text/plain": [
       "<Figure size 432x288 with 1 Axes>"
      ]
     },
     "metadata": {
      "needs_background": "light"
     },
     "output_type": "display_data"
    }
   ],
   "source": [
    "print(df[df['budget']!=0]['budget'].describe())\n",
    "df['budget'].hist()\n",
    "plt.show()\n",
    "print(df_train[df_train['budget']!=0]['budget'].describe())\n",
    "df_train['budget'].hist()\n",
    "plt.show()\n",
    "print(df_train[df_train['budget']!=0]['budget'].describe())\n",
    "df_train['budget'].hist()\n",
    "plt.show()"
   ]
  },
  {
   "cell_type": "code",
   "execution_count": null,
   "metadata": {},
   "outputs": [],
   "source": []
  }
 ],
 "metadata": {
  "kernelspec": {
   "display_name": "Python 3",
   "language": "python",
   "name": "python3"
  },
  "language_info": {
   "codemirror_mode": {
    "name": "ipython",
    "version": 3
   },
   "file_extension": ".py",
   "mimetype": "text/x-python",
   "name": "python",
   "nbconvert_exporter": "python",
   "pygments_lexer": "ipython3",
   "version": "3.8.1"
  }
 },
 "nbformat": 4,
 "nbformat_minor": 4
}
