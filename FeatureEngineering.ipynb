{
 "cells": [
  {
   "cell_type": "markdown",
   "metadata": {},
   "source": [
    "#### belongs_to_collection:\n",
    "        has_collection: 0 or 1, whether a movie belongs to any collection\n",
    "        collec_rank: int, the rank of this movie in its collection\n",
    "#### budget \n",
    "        budget_ori: int, the original budget number in US dollar\n",
    "        budget_inflaction: int, the corrected budget considering inflaction\n",
    "#### genres\n",
    "        num_genres: int, number of genres labels given\n",
    "        is_Horror: 0 or 1, whether a movie belongs to Horror genres\n",
    "        is_Thriller: 0 or 1, whether a movie belongs to Thriller genres\n",
    "        is_War: 0 or 1, whether a movie belongs to War genres\n",
    "        is_Romance: 0 or 1, whether a movie belongs to Romance genres\n",
    "        is_Comedy: 0 or 1, whether a movie belongs to Comedy genres\n",
    "        is_Documentary: 0 or 1, whether a movie belongs to Documentary genres\n",
    "        is_Animation: 0 or 1, whether a movie belongs to Animation genres\n",
    "        is_Family: 0 or 1, whether a movie belongs to Family genres\n",
    "        is_Foreign: 0 or 1, whether a movie belongs to Foreign genres\n",
    "        is_Music: 0 or 1, whether a movie belongs to Music genres\n",
    "        is_History: 0 or 1, whether a movie belongs to History genres\n",
    "        is_Crime: 0 or 1, whether a movie belongs to Crime genres\n",
    "        is_TV_Movie: 0 or 1, whether a movie belongs to TV Movie genres\n",
    "        is_Western: 0 or 1, whether a movie belongs to Western genres\n",
    "        is_Mystery: 0 or 1, whether a movie belongs to Mystery genres\n",
    "        is_Fantasy: 0 or 1, whether a movie belongs to Fantasy genres\n",
    "        is_Adventure: 0 or 1, whether a movie belongs to Adventure genres\n",
    "        is_Science_Fiction: 0 or 1, whether a movie belongs to Science Fiction genres\n",
    "        is_Action: 0 or 1, whether a movie belongs to Action genres\n",
    "        is_Drama: 0 or 1, whether a movie belongs to Drama genres\n",
    "#### homepage\n",
    "        has_homepage: 0 or 1, whether a movie has a home page\n",
    "#### original_language\n",
    "        is_lan_en: 0 or 1, whether original language is en\n",
    "        is_lan_fr: 0 or 1, whether original language is fr\n",
    "        is_lan_hi: 0 or 1, whether original language is hi\n",
    "        is_lan_ru: 0 or 1, whether original language is ru\n",
    "        is_lan_es: 0 or 1, whether original language is es\n",
    "        is_lan_ja: 0 or 1, whether original language is ja\n",
    "        is_lan_it: 0 or 1, whether original language is it\n",
    "        is_lan_de: 0 or 1, whether original language is de\n",
    "        is_lan_ko: 0 or 1, whether original language is ko\n",
    "        is_lan_zh: 0 or 1, whether original language is zh\n",
    "        is_lan_cn: 0 or 1, whether original language is cn\n",
    "        is_lan_ta: 0 or 1, whether original language is ta\n",
    "        is_lan_sv: 0 or 1, whether original language is sv\n",
    "        is_lan_da: 0 or 1, whether original language is da\n",
    "        is_lan_pt: 0 or 1, whether original language is pt\n",
    "        is_lan_ml: 0 or 1, whether original language is ml\n",
    "        is_lan_nl: 0 or 1, whether original language is nl\n",
    "        is_lan_other: 0 or 1, whether original language is some other language\n",
    "#### original_title\n",
    "        len_ori_title: int, the length of original_title\n",
    "        is_eq_title_oriTitle: 0 or 1, whether the original_title and title is the same\n",
    "#### popularity\n",
    "        popu: float, the original popularity value\n",
    "#### production_companies\n",
    "        num_pro_comp: int, number of production companies involved\n",
    "        is_Paramount_Pictures: 0 or 1, where Paramount Pictures is involved\n",
    "        ......\n",
    "#### release_date\n",
    "        release_y: int, the release year\n",
    "        release_m: int, the release month\n",
    "        release_d: int, the release date\n",
    "#### runtime\n",
    "        runtime: int, the original runtime value\n",
    "#### spoken_languages\n",
    "        num_spo_lan: int, the number of spoken languages\n",
    "#### status\n",
    "        is_realeased: 0 or 1, whether a movie is \"Realeased\"\n",
    "        is_rumored: 0 or 1, whether a movie is \"Rumored\"\n",
    "        is_post_Pro: 0 or 1, whether a movie is \"Post Production\"\n",
    "#### tagline\n",
    "        len_tagline: int, the length of tagline\n",
    "#### title\n",
    "        len_title: int, the length of title\n",
    "#### keywords\n",
    "        num_keyword: int, the number of keyword given\n",
    "        is_kw_latin: 0 or 1, whether latin is among the keywords\n",
    "        ....\n",
    "#### cast\n",
    "        num_cast: int, the number of members in the cast\n",
    "        is_cast_Jean-Paul_Savignac: 0 or 1, whether Jean-Paul Savignac is in the cast\n",
    "        ...\n",
    "        "
   ]
  },
  {
   "cell_type": "markdown",
   "metadata": {},
   "source": [
    "#### load dataset"
   ]
  },
  {
   "cell_type": "code",
   "execution_count": 1,
   "metadata": {},
   "outputs": [
    {
     "name": "stdout",
     "output_type": "stream",
     "text": [
      "(7398, 24)\n",
      "['id', 'belongs_to_collection', 'budget', 'genres', 'homepage', 'imdb_id', 'original_language', 'original_title', 'overview', 'popularity', 'poster_path', 'production_companies', 'production_countries', 'release_date', 'runtime', 'spoken_languages', 'status', 'tagline', 'title', 'Keywords', 'cast', 'crew', 'revenue', 'data']\n",
      "(3000, 24)\n",
      "['id', 'belongs_to_collection', 'budget', 'genres', 'homepage', 'imdb_id', 'original_language', 'original_title', 'overview', 'popularity', 'poster_path', 'production_companies', 'production_countries', 'release_date', 'runtime', 'spoken_languages', 'status', 'tagline', 'title', 'Keywords', 'cast', 'crew', 'revenue', 'data']\n",
      "(4398, 24)\n",
      "['id', 'belongs_to_collection', 'budget', 'genres', 'homepage', 'imdb_id', 'original_language', 'original_title', 'overview', 'popularity', 'poster_path', 'production_companies', 'production_countries', 'release_date', 'runtime', 'spoken_languages', 'status', 'tagline', 'title', 'Keywords', 'cast', 'crew', 'revenue', 'data']\n"
     ]
    }
   ],
   "source": [
    "import pandas as pd\n",
    "import numpy as np\n",
    "import matplotlib.pyplot as plt\n",
    "import cpi\n",
    "from datetime import date\n",
    "\n",
    "def correct_money(release_date, money):\n",
    "    try:\n",
    "        m,d,y = release_date.split('/')\n",
    "        if y > '20':\n",
    "            y = int('19'+y)\n",
    "        else:\n",
    "            y = int('20'+y)\n",
    "        res = cpi.inflate(int(money), date(y,int(m),int(d)),to=date(2019,12,31))\n",
    "    except:\n",
    "        res = money\n",
    "    return res\n",
    "\n",
    "df_train = pd.read_csv('dataset/train.csv')\n",
    "df_test = pd.read_csv('dataset/test.csv')\n",
    "# concat into one dataset\n",
    "df_train['data'] = 'train'\n",
    "df_test['data'] = 'test'\n",
    "df = pd.concat((df_train, df_test), axis=0)\n",
    "print(df.shape)\n",
    "print(list(df))\n",
    "df_train = df[df['data']=='train']\n",
    "df_test = df[df['data']=='test']\n",
    "print(df_train.shape)\n",
    "print(list(df_train))\n",
    "print(df_test.shape)\n",
    "print(list(df_test))"
   ]
  },
  {
   "cell_type": "markdown",
   "metadata": {},
   "source": [
    "## belongs_to_collection:"
   ]
  },
  {
   "cell_type": "code",
   "execution_count": 2,
   "metadata": {},
   "outputs": [],
   "source": [
    "# display(df.dropna(subset=['belongs_to_collection'],axis=0)[['original_title', 'title','has_collection']][:30])"
   ]
  },
  {
   "cell_type": "markdown",
   "metadata": {},
   "source": [
    "#### has_collection: 0 or 1, whether a movie belongs to any collection, 0: True, 1:False"
   ]
  },
  {
   "cell_type": "code",
   "execution_count": 3,
   "metadata": {},
   "outputs": [],
   "source": [
    "df['has_collection'] = df['belongs_to_collection'].isnull().astype('int')"
   ]
  },
  {
   "cell_type": "markdown",
   "metadata": {},
   "source": [
    "#### collec_rank: int, the rank of this movie in its collection"
   ]
  },
  {
   "cell_type": "code",
   "execution_count": 4,
   "metadata": {},
   "outputs": [],
   "source": [
    "# def collec_rank(has_collection, original_title):\n",
    "#     if has_collection == 1:\n",
    "#         return np.nan\n",
    "#     if original_title.endswith('')\n",
    "    \n",
    "    "
   ]
  },
  {
   "cell_type": "markdown",
   "metadata": {},
   "source": [
    "## budget\n",
    "#### budget_ori: int, the original budget number in US dollar"
   ]
  },
  {
   "cell_type": "code",
   "execution_count": 5,
   "metadata": {},
   "outputs": [],
   "source": [
    "df['budget_ori'] = df['budget']\n"
   ]
  },
  {
   "cell_type": "markdown",
   "metadata": {},
   "source": [
    "#### budget_inflaction: int, the corrected budget considering inflaction"
   ]
  },
  {
   "cell_type": "code",
   "execution_count": 6,
   "metadata": {},
   "outputs": [],
   "source": [
    "df['budget_corrected'] = df.apply(lambda line:correct_money(line['release_date'],line['budget']),axis=1)"
   ]
  },
  {
   "cell_type": "markdown",
   "metadata": {},
   "source": [
    "## revenue\n",
    "#### revenue_inflaction: int, the corrected revenue considering inflaction, this is the label, not the feature¶"
   ]
  },
  {
   "cell_type": "code",
   "execution_count": 7,
   "metadata": {},
   "outputs": [],
   "source": [
    "df['revenue_corrected'] = df.apply(lambda line:correct_money(line['release_date'],line['revenue']),axis=1)"
   ]
  },
  {
   "cell_type": "markdown",
   "metadata": {},
   "source": [
    "## genres\n",
    "#### num_genres: int, number of genres labels given"
   ]
  },
  {
   "cell_type": "code",
   "execution_count": 8,
   "metadata": {},
   "outputs": [],
   "source": [
    "def cal_genres_num(content):\n",
    "    try:\n",
    "        content = eval(content)\n",
    "    except (TypeError):\n",
    "        return np.nan\n",
    "    return len(content)\n",
    "df['num_genres'] = df.apply(lambda line: cal_genres_num(line['genres']),axis=1)"
   ]
  },
  {
   "cell_type": "markdown",
   "metadata": {},
   "source": [
    "#### features like is_Horror: 0 or 1, whether a movie belongs to Horror genres, for all the genres"
   ]
  },
  {
   "cell_type": "code",
   "execution_count": 9,
   "metadata": {},
   "outputs": [],
   "source": [
    "def cal_is_genres(content, genres):\n",
    "    try:\n",
    "        if genres in content:\n",
    "            return 0\n",
    "        else:\n",
    "            return 1\n",
    "    except (TypeError):\n",
    "        return np.nan\n",
    "\n",
    "genres_set = ['Science Fiction', 'Drama', 'TV Movie', 'Action', 'War', 'Documentary', 'Music', 'Comedy', 'History', 'Foreign', 'Thriller', 'Romance', 'Adventure', 'Western', 'Family', 'Animation', 'Crime', 'Horror', 'Fantasy', 'Mystery']\n",
    "for g in genres_set:\n",
    "    fea = 'is_'+g.replace(' ','_')\n",
    "    df[fea] = df.apply(lambda line: cal_is_genres(line['genres'], g),axis=1)\n"
   ]
  },
  {
   "cell_type": "markdown",
   "metadata": {},
   "source": [
    "## homepage\n",
    "#### has_homepage: 0 or 1, whether a movie has a home page"
   ]
  },
  {
   "cell_type": "code",
   "execution_count": 10,
   "metadata": {},
   "outputs": [],
   "source": [
    "df['has_homepage'] = df['homepage'].isnull().astype('int')"
   ]
  },
  {
   "cell_type": "markdown",
   "metadata": {},
   "source": [
    "## original_language\n",
    "#### features like is_lan_en: 0 or 1, whether original language is en"
   ]
  },
  {
   "cell_type": "code",
   "execution_count": 11,
   "metadata": {},
   "outputs": [],
   "source": [
    "def cal_is_lan(content, lan):\n",
    "    try:\n",
    "        if lan in content:\n",
    "            return 0\n",
    "        else:\n",
    "            return 1\n",
    "    except (TypeError):\n",
    "        return np.nan\n",
    "    \n",
    "ori_lan_set = ['fi', 'kn', 'el', 'ar', 'vi', 'pt', 'es', 'ru', 'ja', 'pl', 'ko', 'nb', 'fr', 'mr', 'bm', 'bn', 'he', 'th', 'fa', 'xx', 'sv', 'ta', 'af', 'hi', 'da', 'id', 'en', 'zh', 'ro', 'ml', 'ka', 'is', 'tr', 'it', 'ca', 'nl', 'hu', 'sr', 'cs', 'de', 'te', 'cn', 'ur', 'no']\n",
    "for ori_lan in ori_lan_set:\n",
    "    fea = 'is_lan_'+ori_lan\n",
    "    df[fea] = df.apply(lambda line: cal_is_genres(line['original_language'], ori_lan),axis=1)\n",
    "\n"
   ]
  },
  {
   "cell_type": "markdown",
   "metadata": {},
   "source": [
    "## original_title\n",
    "#### len_ori_title: int, the length of original_title"
   ]
  },
  {
   "cell_type": "code",
   "execution_count": 12,
   "metadata": {},
   "outputs": [],
   "source": [
    "def cal_len_original_title(content):\n",
    "    return len(content)\n",
    "df['len_ori_title'] = df.apply(lambda line: cal_len_original_title(line['original_title']),axis=1)\n",
    "    "
   ]
  },
  {
   "cell_type": "markdown",
   "metadata": {},
   "source": [
    "#### is_eq_title_oriTitle: 0 or 1, whether the original_title and title is the same"
   ]
  },
  {
   "cell_type": "code",
   "execution_count": 13,
   "metadata": {},
   "outputs": [],
   "source": [
    "def cal_eq_title_oriTitle(title, original_title):\n",
    "    return int(title==original_title)\n",
    "\n",
    "df['is_eq_title_oriTitle'] = df.apply(lambda line: cal_eq_title_oriTitle(line['title'], line['original_title']),axis=1)\n"
   ]
  },
  {
   "cell_type": "markdown",
   "metadata": {},
   "source": [
    "## popularity¶\n",
    "#### popu: float, the original popularity value"
   ]
  },
  {
   "cell_type": "code",
   "execution_count": 14,
   "metadata": {},
   "outputs": [],
   "source": [
    "df['popu'] = df['popularity']"
   ]
  },
  {
   "cell_type": "markdown",
   "metadata": {},
   "source": [
    "## production_companies\n",
    "#### num_pro_comp: int, number of production companies involved\n"
   ]
  },
  {
   "cell_type": "code",
   "execution_count": 15,
   "metadata": {},
   "outputs": [],
   "source": [
    "def cal_company_num(content):\n",
    "    try:\n",
    "        content = eval(content)\n",
    "        return len(content)\n",
    "    except (TypeError):\n",
    "        return np.nan\n",
    "df['num_pro_comp'] = df.apply(lambda line: cal_company_num(line['production_companies']),axis=1)"
   ]
  },
  {
   "cell_type": "markdown",
   "metadata": {},
   "source": [
    "#### features like is_Paramount_Pictures: 0 or 1, where Paramount Pictures is involved\n",
    "#### there are 7087 companies in this dataset, so according to EDA Report, we only verify the top 20 companies: \n",
    "['Warner Bros.',\n",
    " 'Universal Pictures',\n",
    " 'Paramount Pictures',\n",
    " 'Twentieth Century Fox Film Corporation',\n",
    " 'Columbia Pictures',\n",
    " 'Metro-Goldwyn-Mayer (MGM)',\n",
    " 'New Line Cinema',\n",
    " 'Touchstone Pictures',\n",
    " 'Walt Disney Pictures',\n",
    " 'Columbia Pictures Corporation',\n",
    " 'Canal+',\n",
    " 'TriStar Pictures',\n",
    " 'Relativity Media',\n",
    " 'United Artists',\n",
    " 'Miramax Films',\n",
    " 'Village Roadshow Pictures',\n",
    " 'Regency Enterprises',\n",
    " 'DreamWorks SKG',\n",
    " 'Fox Searchlight Pictures',\n",
    " 'Amblin Entertainment']"
   ]
  },
  {
   "cell_type": "code",
   "execution_count": 16,
   "metadata": {},
   "outputs": [],
   "source": [
    "def cal_is_company(content, company):\n",
    "    try:\n",
    "        if company in content:\n",
    "            return 0\n",
    "        else:\n",
    "            return 1\n",
    "    except (TypeError):\n",
    "        return np.nan\n",
    "\n",
    "companies20 = ['Warner Bros.', 'Universal Pictures', 'Paramount Pictures', 'Twentieth Century Fox Film Corporation', 'Columbia Pictures', 'Metro-Goldwyn-Mayer (MGM)', 'New Line Cinema', 'Touchstone Pictures', 'Walt Disney Pictures', 'Columbia Pictures Corporation', 'Canal+', 'TriStar Pictures', 'Relativity Media', 'United Artists', 'Miramax Films', 'Village Roadshow Pictures', 'Regency Enterprises', 'DreamWorks SKG', 'Fox Searchlight Pictures', 'Amblin Entertainment']\n",
    "for c in companies20:\n",
    "    fea = 'is_'+c.replace(' ','_')\n",
    "    df[fea] = df.apply(lambda line: cal_is_company(line['production_companies'], c),axis=1)\n"
   ]
  },
  {
   "cell_type": "markdown",
   "metadata": {},
   "source": [
    "## release_date\n",
    "#### release_y: int, the release year"
   ]
  },
  {
   "cell_type": "code",
   "execution_count": 17,
   "metadata": {},
   "outputs": [],
   "source": [
    "def dateTransform(dt):\n",
    "    try:\n",
    "        m,d,y = dt.split('/')\n",
    "        if y > '20':\n",
    "            y = '19'+y\n",
    "        else:\n",
    "            y = '20'+y\n",
    "        if int(d)<10:\n",
    "            d = '0'+d\n",
    "        if int(m)<10:\n",
    "            m = '0'+m\n",
    "        res = '-'.join([y, m, d])\n",
    "    except:\n",
    "        res = dt\n",
    "    return res\n",
    "def extract_year(dt):\n",
    "    try:\n",
    "        return int(dt.split('-')[0])\n",
    "    except:\n",
    "        return dt\n",
    "def extract_month(dt):\n",
    "    try:\n",
    "        return int(dt.split('-')[1])\n",
    "    except:\n",
    "        return dt\n",
    "def extract_day(dt):\n",
    "    try:\n",
    "        return int(dt.split('-')[2])\n",
    "    except:\n",
    "        return dt\n",
    "\n",
    "df['release_date'] = [dateTransform(item) for item in df['release_date']]\n",
    "df['release_year'] = [extract_year(item) for item in df['release_date']]\n",
    "df['release_month'] = [extract_month(item) for item in df['release_date']]\n",
    "df['release_day'] = [extract_day(item) for item in df['release_date']]\n"
   ]
  },
  {
   "cell_type": "markdown",
   "metadata": {},
   "source": [
    "## runtime¶\n",
    "#### runtime: int, the original runtime value, no midification"
   ]
  },
  {
   "cell_type": "markdown",
   "metadata": {},
   "source": [
    "## spoken_languages\n",
    "#### num_spo_lan: int, the number of spoken languages"
   ]
  },
  {
   "cell_type": "code",
   "execution_count": 18,
   "metadata": {},
   "outputs": [],
   "source": [
    "def cal_spoLan_num(content):\n",
    "    try:\n",
    "        content = eval(content)\n",
    "        res = []\n",
    "        for dic in content:\n",
    "            res.append(dic['iso_639_1'])\n",
    "        return len(res)\n",
    "    except:\n",
    "        return content\n",
    "df['num_spo_lan'] = df['spoken_languages'].apply(cal_spoLan_num)\n",
    "\n"
   ]
  },
  {
   "cell_type": "markdown",
   "metadata": {},
   "source": [
    "## status\n",
    "#### is_realeased: 0 or 1, whether a movie is \"Realeased\"\n",
    "#### is_rumored: 0 or 1, whether a movie is \"Rumored\"\n",
    "#### is_post_Pro: 0 or 1, whether a movie is \"Post Production\""
   ]
  },
  {
   "cell_type": "code",
   "execution_count": 19,
   "metadata": {},
   "outputs": [],
   "source": [
    "df = pd.get_dummies(df, columns=['status'],prefix=['is'])"
   ]
  },
  {
   "cell_type": "markdown",
   "metadata": {},
   "source": [
    "## tagline\n",
    "#### len_tagline: int, the length of tagline"
   ]
  },
  {
   "cell_type": "code",
   "execution_count": 20,
   "metadata": {},
   "outputs": [],
   "source": [
    "def cal_len_tagline(content):\n",
    "    try:\n",
    "        return len(content)\n",
    "    except (TypeError):\n",
    "        return np.nan\n",
    "df['len_tagline'] = df.apply(lambda line: cal_len_tagline(line['tagline']),axis=1)"
   ]
  },
  {
   "cell_type": "markdown",
   "metadata": {},
   "source": [
    "## cast\n",
    "#### num_cast: int, the number of members in the cast"
   ]
  },
  {
   "cell_type": "code",
   "execution_count": 21,
   "metadata": {},
   "outputs": [],
   "source": [
    "def cal_len_cast(cast):\n",
    "    # nan\n",
    "    if isinstance(cast, str)==False:\n",
    "        return cast\n",
    "    else:\n",
    "        return len(eval(cast))\n",
    "df['num_cast'] = [cal_len_cast(item) for item in df['cast']]"
   ]
  },
  {
   "cell_type": "markdown",
   "metadata": {},
   "source": [
    "#### is_cast_Samuel_L._Jackson: 0 or 1, whether Samuel L. Jackson is in the cast, according to EDA report, I only count the most frequent 20 actors/actresses:  \n",
    "['Samuel L. Jackson', 'Robert De Niro', 'Bruce Willis', 'Morgan Freeman', 'Liam Neeson', 'Willem Dafoe', 'Steve Buscemi', 'Sylvester Stallone', 'Nicolas Cage', 'Matt Damon', 'J.K. Simmons', 'John Goodman', 'Julianne Moore', 'Christopher Walken', 'Robin Williams', 'Johnny Depp', 'Stanley Tucci', 'Harrison Ford', 'Richard Jenkins', 'Ben Stiller']"
   ]
  },
  {
   "cell_type": "code",
   "execution_count": 22,
   "metadata": {},
   "outputs": [],
   "source": [
    "def cal_is_cast(content, name):\n",
    "    try:\n",
    "        if name in content:\n",
    "            return 0\n",
    "        else:\n",
    "            return 1\n",
    "    except (TypeError):\n",
    "        return np.nan\n",
    "\n",
    "cast20 = ['Samuel L. Jackson', 'Robert De Niro', 'Bruce Willis', 'Morgan Freeman', 'Liam Neeson', 'Willem Dafoe', 'Steve Buscemi', 'Sylvester Stallone', 'Nicolas Cage', 'Matt Damon', 'J.K. Simmons', 'John Goodman', 'Julianne Moore', 'Christopher Walken', 'Robin Williams', 'Johnny Depp', 'Stanley Tucci', 'Harrison Ford', 'Richard Jenkins', 'Ben Stiller']\n",
    "for c in cast20:\n",
    "    fea = 'is_cast_'+c.replace(' ','_')\n",
    "    df[fea] = df.apply(lambda line: cal_is_cast(line['cast'], c),axis=1)\n",
    "\n",
    "\n"
   ]
  },
  {
   "cell_type": "markdown",
   "metadata": {},
   "source": [
    "## save the new dataset\n",
    "#### 5 columns can't be used for the tranning: id, release_date, data, revenue, revenue_corrected"
   ]
  },
  {
   "cell_type": "code",
   "execution_count": 41,
   "metadata": {},
   "outputs": [
    {
     "name": "stdout",
     "output_type": "stream",
     "text": [
      "(7398, 146)\n"
     ]
    }
   ],
   "source": [
    "columns = ['id']\n",
    "columns.extend(list(df.columns)[23:])\n",
    "columns.remove('revenue_corrected')\n",
    "columns.extend(['runtime', 'release_date','data', 'revenue_corrected', 'revenue'])\n",
    "df_save = df[columns]\n",
    "print(df.shape)\n",
    "df_save.to_csv('dataset/processed_data.csv',index=None)"
   ]
  },
  {
   "cell_type": "code",
   "execution_count": null,
   "metadata": {},
   "outputs": [],
   "source": []
  },
  {
   "cell_type": "code",
   "execution_count": null,
   "metadata": {},
   "outputs": [],
   "source": []
  }
 ],
 "metadata": {
  "kernelspec": {
   "display_name": "Python 3",
   "language": "python",
   "name": "python3"
  },
  "language_info": {
   "codemirror_mode": {
    "name": "ipython",
    "version": 3
   },
   "file_extension": ".py",
   "mimetype": "text/x-python",
   "name": "python",
   "nbconvert_exporter": "python",
   "pygments_lexer": "ipython3",
   "version": "3.8.1"
  }
 },
 "nbformat": 4,
 "nbformat_minor": 4
}
